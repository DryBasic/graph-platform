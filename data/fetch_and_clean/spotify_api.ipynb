{
  "cells": [
    {
      "cell_type": "code",
      "execution_count": null,
      "id": "3a3cf9c8-7b02-4e5c-a878-d47a13d406eb",
      "metadata": {
        "id": "3a3cf9c8-7b02-4e5c-a878-d47a13d406eb"
      },
      "outputs": [],
      "source": [
        "import pandas as pd\n",
        "import numpy as np\n",
        "import requests\n",
        "from urllib.parse import urlencode\n",
        "import base64\n",
        "import webbrowser\n",
        "import json"
      ]
    },
    {
      "cell_type": "markdown",
      "id": "781b701e-8832-4bcf-acdc-6b3bdae1b421",
      "metadata": {
        "id": "781b701e-8832-4bcf-acdc-6b3bdae1b421"
      },
      "source": [
        "#### Load Kaggle dataset of most streamed songs on Spotify, 2023"
      ]
    },
    {
      "cell_type": "code",
      "execution_count": null,
      "id": "58658d2e-9c79-403e-a5e9-6e384aae2e27",
      "metadata": {
        "id": "58658d2e-9c79-403e-a5e9-6e384aae2e27"
      },
      "outputs": [],
      "source": [
        "df1 = pd.read_csv('spotify-2023.csv',encoding='latin-1')"
      ]
    },
    {
      "cell_type": "code",
      "execution_count": null,
      "id": "b4c57324-b1d1-44af-a408-2a259fc1507f",
      "metadata": {
        "id": "b4c57324-b1d1-44af-a408-2a259fc1507f",
        "outputId": "28a3ce51-b1a7-4cd2-d694-a64522fd77bc"
      },
      "outputs": [
        {
          "data": {
            "text/html": [
              "<div>\n",
              "<style scoped>\n",
              "    .dataframe tbody tr th:only-of-type {\n",
              "        vertical-align: middle;\n",
              "    }\n",
              "\n",
              "    .dataframe tbody tr th {\n",
              "        vertical-align: top;\n",
              "    }\n",
              "\n",
              "    .dataframe thead th {\n",
              "        text-align: right;\n",
              "    }\n",
              "</style>\n",
              "<table border=\"1\" class=\"dataframe\">\n",
              "  <thead>\n",
              "    <tr style=\"text-align: right;\">\n",
              "      <th></th>\n",
              "      <th>track_name</th>\n",
              "      <th>artist(s)_name</th>\n",
              "      <th>artist_count</th>\n",
              "      <th>released_year</th>\n",
              "      <th>released_month</th>\n",
              "      <th>released_day</th>\n",
              "      <th>in_spotify_playlists</th>\n",
              "      <th>in_spotify_charts</th>\n",
              "      <th>streams</th>\n",
              "      <th>in_apple_playlists</th>\n",
              "      <th>...</th>\n",
              "      <th>bpm</th>\n",
              "      <th>key</th>\n",
              "      <th>mode</th>\n",
              "      <th>danceability_%</th>\n",
              "      <th>valence_%</th>\n",
              "      <th>energy_%</th>\n",
              "      <th>acousticness_%</th>\n",
              "      <th>instrumentalness_%</th>\n",
              "      <th>liveness_%</th>\n",
              "      <th>speechiness_%</th>\n",
              "    </tr>\n",
              "  </thead>\n",
              "  <tbody>\n",
              "    <tr>\n",
              "      <th>0</th>\n",
              "      <td>Seven (feat. Latto) (Explicit Ver.)</td>\n",
              "      <td>Latto, Jung Kook</td>\n",
              "      <td>2</td>\n",
              "      <td>2023</td>\n",
              "      <td>7</td>\n",
              "      <td>14</td>\n",
              "      <td>553</td>\n",
              "      <td>147</td>\n",
              "      <td>141381703</td>\n",
              "      <td>43</td>\n",
              "      <td>...</td>\n",
              "      <td>125</td>\n",
              "      <td>B</td>\n",
              "      <td>Major</td>\n",
              "      <td>80</td>\n",
              "      <td>89</td>\n",
              "      <td>83</td>\n",
              "      <td>31</td>\n",
              "      <td>0</td>\n",
              "      <td>8</td>\n",
              "      <td>4</td>\n",
              "    </tr>\n",
              "    <tr>\n",
              "      <th>1</th>\n",
              "      <td>LALA</td>\n",
              "      <td>Myke Towers</td>\n",
              "      <td>1</td>\n",
              "      <td>2023</td>\n",
              "      <td>3</td>\n",
              "      <td>23</td>\n",
              "      <td>1474</td>\n",
              "      <td>48</td>\n",
              "      <td>133716286</td>\n",
              "      <td>48</td>\n",
              "      <td>...</td>\n",
              "      <td>92</td>\n",
              "      <td>C#</td>\n",
              "      <td>Major</td>\n",
              "      <td>71</td>\n",
              "      <td>61</td>\n",
              "      <td>74</td>\n",
              "      <td>7</td>\n",
              "      <td>0</td>\n",
              "      <td>10</td>\n",
              "      <td>4</td>\n",
              "    </tr>\n",
              "    <tr>\n",
              "      <th>2</th>\n",
              "      <td>vampire</td>\n",
              "      <td>Olivia Rodrigo</td>\n",
              "      <td>1</td>\n",
              "      <td>2023</td>\n",
              "      <td>6</td>\n",
              "      <td>30</td>\n",
              "      <td>1397</td>\n",
              "      <td>113</td>\n",
              "      <td>140003974</td>\n",
              "      <td>94</td>\n",
              "      <td>...</td>\n",
              "      <td>138</td>\n",
              "      <td>F</td>\n",
              "      <td>Major</td>\n",
              "      <td>51</td>\n",
              "      <td>32</td>\n",
              "      <td>53</td>\n",
              "      <td>17</td>\n",
              "      <td>0</td>\n",
              "      <td>31</td>\n",
              "      <td>6</td>\n",
              "    </tr>\n",
              "    <tr>\n",
              "      <th>3</th>\n",
              "      <td>Cruel Summer</td>\n",
              "      <td>Taylor Swift</td>\n",
              "      <td>1</td>\n",
              "      <td>2019</td>\n",
              "      <td>8</td>\n",
              "      <td>23</td>\n",
              "      <td>7858</td>\n",
              "      <td>100</td>\n",
              "      <td>800840817</td>\n",
              "      <td>116</td>\n",
              "      <td>...</td>\n",
              "      <td>170</td>\n",
              "      <td>A</td>\n",
              "      <td>Major</td>\n",
              "      <td>55</td>\n",
              "      <td>58</td>\n",
              "      <td>72</td>\n",
              "      <td>11</td>\n",
              "      <td>0</td>\n",
              "      <td>11</td>\n",
              "      <td>15</td>\n",
              "    </tr>\n",
              "    <tr>\n",
              "      <th>4</th>\n",
              "      <td>WHERE SHE GOES</td>\n",
              "      <td>Bad Bunny</td>\n",
              "      <td>1</td>\n",
              "      <td>2023</td>\n",
              "      <td>5</td>\n",
              "      <td>18</td>\n",
              "      <td>3133</td>\n",
              "      <td>50</td>\n",
              "      <td>303236322</td>\n",
              "      <td>84</td>\n",
              "      <td>...</td>\n",
              "      <td>144</td>\n",
              "      <td>A</td>\n",
              "      <td>Minor</td>\n",
              "      <td>65</td>\n",
              "      <td>23</td>\n",
              "      <td>80</td>\n",
              "      <td>14</td>\n",
              "      <td>63</td>\n",
              "      <td>11</td>\n",
              "      <td>6</td>\n",
              "    </tr>\n",
              "  </tbody>\n",
              "</table>\n",
              "<p>5 rows × 24 columns</p>\n",
              "</div>"
            ],
            "text/plain": [
              "                            track_name    artist(s)_name  artist_count  \\\n",
              "0  Seven (feat. Latto) (Explicit Ver.)  Latto, Jung Kook             2   \n",
              "1                                 LALA       Myke Towers             1   \n",
              "2                              vampire    Olivia Rodrigo             1   \n",
              "3                         Cruel Summer      Taylor Swift             1   \n",
              "4                       WHERE SHE GOES         Bad Bunny             1   \n",
              "\n",
              "   released_year  released_month  released_day  in_spotify_playlists  \\\n",
              "0           2023               7            14                   553   \n",
              "1           2023               3            23                  1474   \n",
              "2           2023               6            30                  1397   \n",
              "3           2019               8            23                  7858   \n",
              "4           2023               5            18                  3133   \n",
              "\n",
              "   in_spotify_charts    streams  in_apple_playlists  ...  bpm key   mode  \\\n",
              "0                147  141381703                  43  ...  125   B  Major   \n",
              "1                 48  133716286                  48  ...   92  C#  Major   \n",
              "2                113  140003974                  94  ...  138   F  Major   \n",
              "3                100  800840817                 116  ...  170   A  Major   \n",
              "4                 50  303236322                  84  ...  144   A  Minor   \n",
              "\n",
              "  danceability_%  valence_% energy_% acousticness_%  instrumentalness_%  \\\n",
              "0             80         89       83             31                   0   \n",
              "1             71         61       74              7                   0   \n",
              "2             51         32       53             17                   0   \n",
              "3             55         58       72             11                   0   \n",
              "4             65         23       80             14                  63   \n",
              "\n",
              "   liveness_%  speechiness_%  \n",
              "0           8              4  \n",
              "1          10              4  \n",
              "2          31              6  \n",
              "3          11             15  \n",
              "4          11              6  \n",
              "\n",
              "[5 rows x 24 columns]"
            ]
          },
          "execution_count": 3,
          "metadata": {},
          "output_type": "execute_result"
        }
      ],
      "source": [
        "df1.head()"
      ]
    },
    {
      "cell_type": "markdown",
      "id": "ccbf2f9e-3d4a-4c35-9305-b140bd4ef075",
      "metadata": {
        "id": "ccbf2f9e-3d4a-4c35-9305-b140bd4ef075"
      },
      "source": [
        "#### Authorize Spotify API"
      ]
    },
    {
      "cell_type": "code",
      "execution_count": null,
      "id": "ef80b681-d4fb-444c-8247-2dd5a040bf7e",
      "metadata": {
        "id": "ef80b681-d4fb-444c-8247-2dd5a040bf7e",
        "outputId": "3f94f2cf-e892-4de9-9c6b-acd793d8c3ff"
      },
      "outputs": [
        {
          "data": {
            "text/plain": [
              "True"
            ]
          },
          "execution_count": 4,
          "metadata": {},
          "output_type": "execute_result"
        }
      ],
      "source": [
        "# Set credentials\n",
        "\n",
        "client_id = 'e569e9ac27934e209405a9fa233794d4'\n",
        "client_secret = 'd7c2dac1d2444f66841f184d4ec076f4'\n",
        "redirect_uri = 'http://localhost:3300/callback'\n",
        "endpoint = 'https://accounts.spotify.com/authorize'\n",
        "header_vals = {'client_id':client_id,'response_type':'code','redirect_uri':redirect_uri}\n",
        "\n",
        "webbrowser.open(\"https://accounts.spotify.com/authorize?\" + urlencode(header_vals))"
      ]
    },
    {
      "cell_type": "code",
      "execution_count": null,
      "id": "293dc3c4-d695-4b1b-8476-7fdd53af48eb",
      "metadata": {
        "id": "293dc3c4-d695-4b1b-8476-7fdd53af48eb"
      },
      "outputs": [],
      "source": [
        "code = 'AQB84Xula7tDr_Q7tuV21mEsO5vLk5vHJYRlxLbLti_jAqQwx05Ug2Ax0puDGg3kqlKK1wxmjoftSmXN4Ic-aCHQ44KKd_Y-xLDern-t_bxK1r59tkVqV4bB5870neMkvLsczDDLKp5CoMF9SUMtWRGnKGae_sGyPiMDRb7urmTUjA'\n",
        "encoded_credentials = base64.b64encode(client_id.encode() + b':' + client_secret.encode()).decode(\"utf-8\")\n",
        "\n",
        "token_headers = {\n",
        "    \"Authorization\": \"Basic \" + encoded_credentials,\n",
        "    \"Content-Type\": \"application/x-www-form-urlencoded\"\n",
        "}\n",
        "\n",
        "token_data = {\n",
        "    \"grant_type\": \"authorization_code\",\n",
        "    \"code\": code,\n",
        "    \"redirect_uri\": \"http://localhost:3300/callback\"\n",
        "}\n",
        "\n",
        "r = requests.post(\"https://accounts.spotify.com/api/token\", data=token_data, headers=token_headers)\n",
        "ACCESS_TOKEN = r.json()['access_token']"
      ]
    },
    {
      "cell_type": "code",
      "execution_count": null,
      "id": "b1d061ce-3cd3-491f-a9d1-2921404402a6",
      "metadata": {
        "id": "b1d061ce-3cd3-491f-a9d1-2921404402a6"
      },
      "outputs": [],
      "source": [
        "user_headers = {\n",
        "    \"Authorization\": \"Bearer \" + ACCESS_TOKEN,\n",
        "    \"Content-Type\": \"application/json\"\n",
        "}"
      ]
    },
    {
      "cell_type": "code",
      "execution_count": null,
      "id": "21853f2b-25ae-4e69-827e-b75ac4a3c617",
      "metadata": {
        "id": "21853f2b-25ae-4e69-827e-b75ac4a3c617"
      },
      "outputs": [],
      "source": []
    },
    {
      "cell_type": "markdown",
      "id": "028f2cfc-8e5a-4f52-a672-8927625be678",
      "metadata": {
        "id": "028f2cfc-8e5a-4f52-a672-8927625be678"
      },
      "source": [
        "#### Call Playlists endpoint to get top playlists + tracks"
      ]
    },
    {
      "cell_type": "code",
      "execution_count": null,
      "id": "9714682b-1c8b-4277-8150-1e9a1f0037a8",
      "metadata": {
        "id": "9714682b-1c8b-4277-8150-1e9a1f0037a8"
      },
      "outputs": [],
      "source": [
        "# Download list of featured playlists + metadata\n",
        "\n",
        "featured_playlists = requests.get(\"https://api.spotify.com/v1/browse/featured-playlists\", headers=user_headers)\n",
        "featured_playlists_json = featured_playlists.json()\n",
        "\n",
        "with open(\"playlist_metadata.json\", \"w\") as outfile:\n",
        "    json.dump(featured_playlists_json, outfile)"
      ]
    },
    {
      "cell_type": "code",
      "execution_count": null,
      "id": "852758be-8fa3-41aa-b12f-c156ef72f829",
      "metadata": {
        "id": "852758be-8fa3-41aa-b12f-c156ef72f829"
      },
      "outputs": [],
      "source": [
        "# Get playlist_ids to get the tracks on each playlist\n",
        "\n",
        "playlist_ids = {}\n",
        "\n",
        "for p in featured_playlists_json['playlists']['items']:\n",
        "    playlist_ids[p['id']] = p['name']"
      ]
    },
    {
      "cell_type": "code",
      "execution_count": null,
      "id": "b6cacef0-f6ed-4fb7-ad05-b8af8ffe9860",
      "metadata": {
        "id": "b6cacef0-f6ed-4fb7-ad05-b8af8ffe9860"
      },
      "outputs": [],
      "source": [
        "# Download list of tracks for each play list\n",
        "playlist_tracks = []\n",
        "\n",
        "for pid in playlist_ids:\n",
        "    url = \"https://api.spotify.com/v1/playlists/\"+str(pid)+\"/tracks\"\n",
        "    output = requests.get(url, headers=user_headers)\n",
        "    json_object = output.json()\n",
        "    json_object['playlist_id'] = pid\n",
        "    playlist_tracks.append(json_object)"
      ]
    },
    {
      "cell_type": "code",
      "execution_count": null,
      "id": "2428e459-53a0-4f86-98b0-e0c0295ea42f",
      "metadata": {
        "id": "2428e459-53a0-4f86-98b0-e0c0295ea42f"
      },
      "outputs": [],
      "source": [
        "# Write playlist tracks to json\n",
        "\n",
        "with open(\"playlist_tracks.json\", \"w\") as outfile:\n",
        "    json.dump(playlist_tracks, outfile)"
      ]
    },
    {
      "cell_type": "code",
      "execution_count": null,
      "id": "2c8ae07f-5946-48a6-8979-4aaaa96ed65e",
      "metadata": {
        "id": "2c8ae07f-5946-48a6-8979-4aaaa96ed65e"
      },
      "outputs": [],
      "source": []
    },
    {
      "cell_type": "code",
      "execution_count": null,
      "id": "2b8e7e4e-0e67-4f92-859e-dc71712d2735",
      "metadata": {
        "id": "2b8e7e4e-0e67-4f92-859e-dc71712d2735"
      },
      "outputs": [],
      "source": []
    },
    {
      "cell_type": "code",
      "execution_count": null,
      "id": "5450dc72-d20b-4882-b0a8-ed4b185cf72a",
      "metadata": {
        "id": "5450dc72-d20b-4882-b0a8-ed4b185cf72a"
      },
      "outputs": [],
      "source": []
    },
    {
      "cell_type": "code",
      "execution_count": null,
      "id": "a5d881e2-742c-4c6a-8945-227ce61cf467",
      "metadata": {
        "id": "a5d881e2-742c-4c6a-8945-227ce61cf467"
      },
      "outputs": [],
      "source": []
    },
    {
      "cell_type": "code",
      "execution_count": null,
      "id": "29a72d24-4c45-43cb-96b9-1005e6765830",
      "metadata": {
        "id": "29a72d24-4c45-43cb-96b9-1005e6765830"
      },
      "outputs": [],
      "source": []
    }
  ],
  "metadata": {
    "kernelspec": {
      "display_name": "Python 3 (ipykernel)",
      "language": "python",
      "name": "python3"
    },
    "language_info": {
      "codemirror_mode": {
        "name": "ipython",
        "version": 3
      },
      "file_extension": ".py",
      "mimetype": "text/x-python",
      "name": "python",
      "nbconvert_exporter": "python",
      "pygments_lexer": "ipython3",
      "version": "3.10.9"
    },
    "colab": {
      "provenance": []
    }
  },
  "nbformat": 4,
  "nbformat_minor": 5
}