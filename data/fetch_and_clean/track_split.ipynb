{
 "cells": [
  {
   "cell_type": "code",
   "execution_count": 1,
   "metadata": {},
   "outputs": [],
   "source": [
    "import pandas as pd\n",
    "import uuid"
   ]
  },
  {
   "cell_type": "code",
   "execution_count": 139,
   "metadata": {},
   "outputs": [],
   "source": [
    "def clean_track(track_name:str) -> str:\n",
    "    clean = track_name.split('(')[0]\n",
    "    return clean\n",
    "\n",
    "def split_artist(artists:str) -> list:\n",
    "    clean = artists.split(', ')\n",
    "    clean = [i.strip() for i in clean if i.strip()]\n",
    "    return clean"
   ]
  },
  {
   "cell_type": "code",
   "execution_count": 142,
   "metadata": {},
   "outputs": [],
   "source": [
    "df = pd.read_csv(\"data/spotify_data_with_id.csv\")\n",
    "df[\"clean_track\"] = [clean_track(i) for i in df.track_name]\n",
    "df[\"artists\"] = [split_artist(i) for i in df[\"artist(s)_name\"]]\n",
    "df = df[df[\"artists\"].str.len() == df[\"artist_count\"]]\n",
    "\n",
    "df[\"release_date\"] = pd.to_datetime(dict(year=df.released_year, month=df.released_month, day=df.released_day))\n",
    "df[\"track_uuid\"] = [uuid.uuid4() for i in df.index]\n",
    "\n",
    "df.drop(columns=[\"released_year\", \"released_month\", \"released_day\", \"artist_count\", \"artist(s)_name\"], inplace=True)"
   ]
  },
  {
   "cell_type": "code",
   "execution_count": 182,
   "metadata": {},
   "outputs": [],
   "source": [
    "track_features = [\"track_uuid\", \"track_id\", \"track_name\", \"clean_track\",\"release_date\", \"streams\"]\n",
    "audio_features = [\"track_uuid\", \"bpm\", \"key\", \"mode\", \"danceability_%\", \"valence_%\", \"energy_%\", \"acousticness_%\", \"instrumentalness_%\", \"liveness_%\", \"speechiness_%\"]"
   ]
  },
  {
   "cell_type": "code",
   "execution_count": 172,
   "metadata": {},
   "outputs": [],
   "source": [
    "track = df[track_features]\n",
    "artist = df[[\"artists\"]].explode(\"artists\").drop_duplicates().rename(columns={\"artists\":\"artist\"})\n",
    "artist[\"artist_uuid\"] = [uuid.uuid4() for i in artist.index]"
   ]
  },
  {
   "cell_type": "code",
   "execution_count": 175,
   "metadata": {},
   "outputs": [],
   "source": [
    "track_artist = df[[\"track_uuid\",\"artists\"]].explode(\"artists\")\\\n",
    "    .set_index(\"artists\")\\\n",
    "    .join(artist.set_index(\"artist\"))\\\n",
    "    .reset_index()\\\n",
    "    .drop(columns=[\"artists\"])"
   ]
  },
  {
   "cell_type": "code",
   "execution_count": 188,
   "metadata": {},
   "outputs": [],
   "source": [
    "track.to_csv(\"data/clean/track.csv\", index=False)\n",
    "df[audio_features].to_csv(\"data/clean/track_audio.csv\", index=False)\n",
    "artist.to_csv(\"data/clean/artist.csv\", index=False)\n",
    "track_artist.to_csv(\"data/clean/edge_track_artist.csv\", index=False)"
   ]
  },
  {
   "cell_type": "markdown",
   "metadata": {},
   "source": [
    "Artist"
   ]
  },
  {
   "cell_type": "code",
   "execution_count": 104,
   "metadata": {},
   "outputs": [],
   "source": [
    "artist_big = pd.read_csv('../raw/artists.csv').dropna()\n",
    "artist = pd.read_csv('../clean/artist.csv')"
   ]
  },
  {
   "cell_type": "code",
   "execution_count": 147,
   "metadata": {},
   "outputs": [],
   "source": [
    "joind = artist.set_index('artist').join(artist_big.set_index(\"name\"), how='left').reset_index()\n",
    "# artist_big has duplicate names\n",
    "# for simplicity, let's assume that since we are looking at top hits, that the correct artist is one with the most followers\n",
    "most_probable = joind[['artist_uuid','followers']].groupby('artist_uuid').max().reset_index().set_index(['artist_uuid','followers'])\n",
    "joinf = joind.set_index(['artist_uuid','followers']).join(most_probable, how='inner').reset_index()\n"
   ]
  },
  {
   "cell_type": "code",
   "execution_count": 151,
   "metadata": {},
   "outputs": [],
   "source": [
    "artist_features = ['artist_uuid','id', 'artist', 'followers', 'popularity']\n",
    "joinf[artist_features].to_csv('../clean/artist.csv', index=False)"
   ]
  },
  {
   "cell_type": "markdown",
   "metadata": {},
   "source": [
    "Genre"
   ]
  },
  {
   "cell_type": "code",
   "execution_count": null,
   "metadata": {},
   "outputs": [],
   "source": [
    "joinf"
   ]
  },
  {
   "cell_type": "code",
   "execution_count": 161,
   "metadata": {},
   "outputs": [],
   "source": [
    "joinf['genres'] = [eval(i) if i==i else None for i in joinf.genres]\n",
    "genres = joinf.explode('genres')[['genres']].drop_duplicates().dropna()\n",
    "genres['genre_uuid'] = [uuid.uuid4() for i in genres.index]"
   ]
  },
  {
   "cell_type": "code",
   "execution_count": 171,
   "metadata": {},
   "outputs": [],
   "source": [
    "artist_genre = joinf[['artist_uuid', 'genres']].explode('genres')\\\n",
    "    .set_index('genres')\\\n",
    "    .join(genres.set_index('genres'))\\\n",
    "    .reset_index()\\\n",
    "    .dropna()\\\n",
    "    .drop(columns=['genres']).drop_duplicates()\n",
    "\n",
    "artist_genre.to_csv('../clean/edge_artist_genre.csv', index=False)"
   ]
  },
  {
   "cell_type": "code",
   "execution_count": 167,
   "metadata": {},
   "outputs": [],
   "source": [
    "genres.to_csv('../clean/genre.csv', index=False)"
   ]
  },
  {
   "cell_type": "code",
   "execution_count": null,
   "metadata": {},
   "outputs": [],
   "source": []
  }
 ],
 "metadata": {
  "kernelspec": {
   "display_name": "Python 3",
   "language": "python",
   "name": "python3"
  },
  "language_info": {
   "codemirror_mode": {
    "name": "ipython",
    "version": 3
   },
   "file_extension": ".py",
   "mimetype": "text/x-python",
   "name": "python",
   "nbconvert_exporter": "python",
   "pygments_lexer": "ipython3",
   "version": "3.11.4"
  }
 },
 "nbformat": 4,
 "nbformat_minor": 2
}
