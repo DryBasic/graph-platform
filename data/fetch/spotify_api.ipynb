{
  "cells": [
    {
      "cell_type": "code",
      "execution_count": 2,
      "id": "3a3cf9c8-7b02-4e5c-a878-d47a13d406eb",
      "metadata": {
        "id": "3a3cf9c8-7b02-4e5c-a878-d47a13d406eb"
      },
      "outputs": [],
      "source": [
        "import pandas as pd\n",
        "from urllib.parse import urlencode\n",
        "import requests; import webbrowser; import base64\n",
        "import json; import yaml"
      ]
    },
    {
      "cell_type": "code",
      "execution_count": 3,
      "metadata": {},
      "outputs": [],
      "source": [
        "with open('../../config/secret.yml') as f:\n",
        "    private = yaml.safe_load(f)\n",
        "\n",
        "CLIENT_ID = private['Spotify']['CLIENT_ID']\n",
        "CLIENT_SECRET = private['Spotify']['CLIENT_SECRET']"
      ]
    },
    {
      "cell_type": "markdown",
      "metadata": {},
      "source": [
        "Below is the code used to \"unfold\" the results of previous API scrape for Playlists that did not use the method shown in this notebook.\n",
        "The track_ids are used as inputs for the subsequent API calls."
      ]
    },
    {
      "cell_type": "code",
      "execution_count": 5,
      "metadata": {},
      "outputs": [],
      "source": [
        "with open('../raw/playlist_tracks.json') as f:\n",
        "    playlist_tracks_json = json.load(f)\n",
        "    \n",
        "playlist_tracks_data = []\n",
        "for playlist in playlist_tracks_json:\n",
        "    playlist_id = playlist['playlist_id']\n",
        "    for track in playlist['items']:\n",
        "        track_id = track['track']['id']\n",
        "        playlist_tracks_data.append([playlist_id, track_id, track['added_at'], track['track']['popularity']])\n",
        "\n",
        "playlist_tracks = pd.DataFrame(playlist_tracks_data, columns=['playlist_id', 'track_id', 'added_at', 'popularity'])"
      ]
    },
    {
      "cell_type": "markdown",
      "metadata": {},
      "source": [
        "The code in the URL of the browser opened by the snippet below is needed to generate an access token"
      ]
    },
    {
      "cell_type": "code",
      "execution_count": 6,
      "metadata": {},
      "outputs": [
        {
          "data": {
            "text/plain": [
              "True"
            ]
          },
          "execution_count": 6,
          "metadata": {},
          "output_type": "execute_result"
        }
      ],
      "source": [
        "auth_header = urlencode({\n",
        "    'client_id': CLIENT_ID,\n",
        "    'response_type': 'code',\n",
        "    'redirect_uri': 'http://localhost:3000'\n",
        "})\n",
        "webbrowser.open('https://accounts.spotify.com/authorize?' + auth_header)"
      ]
    },
    {
      "cell_type": "code",
      "execution_count": 19,
      "metadata": {},
      "outputs": [],
      "source": [
        "# Pasted from browser URL\n",
        "CODE = '''\n",
        "http://localhost:3000/?code=AQBb_G2cpAF4JjW0Am0qXZcnrMadQFJ4MMgWjurZqwkTgQcTEtBEW-xqPP_-tOsWyPP2NXb1GsXKezEWGVhLQCasvQWJzqvaWkT1SNTL0J_TPIXPJ3g64hnj0mUlDYFn0I0KN7o7YoKItGtzdr1fEe4uhOtVz986Fw\n",
        "'''[29:-1]"
      ]
    },
    {
      "cell_type": "code",
      "execution_count": 21,
      "id": "293dc3c4-d695-4b1b-8476-7fdd53af48eb",
      "metadata": {
        "id": "293dc3c4-d695-4b1b-8476-7fdd53af48eb"
      },
      "outputs": [],
      "source": [
        "encoded_credentials = base64.b64encode(CLIENT_ID.encode() + b':' + CLIENT_SECRET.encode()).decode(\"utf-8\")\n",
        "token_headers = {\n",
        "    \"Authorization\": \"Basic \" + encoded_credentials,\n",
        "    \"Content-Type\": \"application/x-www-form-urlencoded\"\n",
        "}\n",
        "token_data = {\n",
        "    \"grant_type\": \"authorization_code\",\n",
        "    \"code\": CODE,\n",
        "    \"redirect_uri\": \"http://localhost:3000\"\n",
        "}\n",
        "\n",
        "r = requests.post(\"https://accounts.spotify.com/api/token\", data=token_data, headers=token_headers)\n",
        "ACCESS_TOKEN = r.json()['access_token']"
      ]
    },
    {
      "cell_type": "code",
      "execution_count": 22,
      "metadata": {},
      "outputs": [],
      "source": [
        "class Accumulator:\n",
        "    def __init__(self):\n",
        "        self.reset()\n",
        "\n",
        "    def reset(self):\n",
        "        self.successes = []\n",
        "        self.failures = []\n",
        "        self.output = []\n",
        "\n",
        "    def bundled_requests(self, access_token, base_url, api_args, transformer=lambda x: x,  max_retries=3):\n",
        "        headers = {\n",
        "            \"Authorization\": \"Bearer \" + access_token,\n",
        "            \"Content-Type\": \"application/json\"\n",
        "        }\n",
        "        for i, arg in enumerate(api_args):\n",
        "            if arg not in self.successes:\n",
        "                for attempt in range(max_retries):\n",
        "                    try:\n",
        "                        print(f'[{i}] Accessing endpoint with arg {arg}... (Attempt {attempt+1})', end='\\r')\n",
        "                        response = requests.get(base_url+arg, headers=headers).json()\n",
        "                        self.output.append(transformer(response))\n",
        "                        self.successes.append(arg)\n",
        "                        break\n",
        "                    except Exception as e:\n",
        "                        if attempt == max_retries-1:\n",
        "                            self.failures.append([i, arg, str(e)])\n"
      ]
    },
    {
      "cell_type": "code",
      "execution_count": 25,
      "metadata": {},
      "outputs": [],
      "source": [
        "def transform_track_json(response):\n",
        "    rid = response['id']\n",
        "    name = response['name']\n",
        "    artists = {i['id']: i['name'] for i in response['artists']}\n",
        "    pop = response['popularity']\n",
        "    rdate = response['album']['release_date']\n",
        "    return [rid, name, artists, pop, rdate]\n",
        "\n",
        "def transform_track_audio_json(response):\n",
        "    track_audio_features = ['id', 'danceability', 'energy', 'key', 'loudness', 'mode', 'speechiness', 'acousticness',\n",
        "    'instrumentalness', 'liveness', 'valence', 'tempo', 'duration_ms', 'time_signature']\n",
        "    return [response[i] for i in track_audio_features]\n",
        "\n",
        "def transform_artist_json(response):\n",
        "    aid = response['id']\n",
        "    name = response['name']\n",
        "    followers = response['followers']['total']\n",
        "    genres = response['genres']\n",
        "    pop = response['popularity']\n",
        "    return [aid, name, genres, followers, pop]"
      ]
    },
    {
      "cell_type": "markdown",
      "metadata": {},
      "source": [
        "Sample use of the Accumulator object in the next two cells to pull Artist information. The \"track_master.csv\" was built by calling the Tracks API and supplying the transform_track_json function to the Accumulator.bundled_requests method."
      ]
    },
    {
      "cell_type": "code",
      "execution_count": null,
      "metadata": {},
      "outputs": [],
      "source": [
        "tm = pd.read_csv('track_master.csv')\n",
        "artists = {}\n",
        "for row in tm.artists:\n",
        "    for i, a in eval(row).items():\n",
        "        artists[i] = a\n",
        "\n",
        "accum = Accumulator()"
      ]
    },
    {
      "cell_type": "code",
      "execution_count": 26,
      "metadata": {},
      "outputs": [
        {
          "name": "stdout",
          "output_type": "stream",
          "text": [
            "[2079] Accessing endpoint with arg 0Yy9u86cq66Se2pB9fYaiW... (Attempt 1)\r"
          ]
        }
      ],
      "source": [
        "\n",
        "accum.bundled_requests(\n",
        "    access_token=ACCESS_TOKEN,\n",
        "    base_url='https://api.spotify.com/v1/artists/',\n",
        "    api_args=list(artists.keys()),\n",
        "    transformer=transform_artist_json,\n",
        "    max_retries=5\n",
        ")"
      ]
    }
  ],
  "metadata": {
    "colab": {
      "provenance": []
    },
    "kernelspec": {
      "display_name": "Python 3 (ipykernel)",
      "language": "python",
      "name": "python3"
    },
    "language_info": {
      "codemirror_mode": {
        "name": "ipython",
        "version": 3
      },
      "file_extension": ".py",
      "mimetype": "text/x-python",
      "name": "python",
      "nbconvert_exporter": "python",
      "pygments_lexer": "ipython3",
      "version": "3.11.4"
    }
  },
  "nbformat": 4,
  "nbformat_minor": 5
}
