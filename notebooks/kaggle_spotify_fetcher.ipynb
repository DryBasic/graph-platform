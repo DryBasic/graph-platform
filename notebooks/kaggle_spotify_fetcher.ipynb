{
 "cells": [
  {
   "cell_type": "code",
   "execution_count": 12,
   "id": "52c6b3aa",
   "metadata": {},
   "outputs": [],
   "source": [
    "import pandas as pd\n",
    "import numpy as np\n",
    "import requests\n",
    "import urllib.parse\n",
    "from urllib.parse import urlencode\n",
    "import base64\n",
    "import webbrowser\n",
    "import time\n",
    "import re\n",
    "import json\n",
    "from datasketch import MinHash\n",
    "import matplotlib.pyplot as plt\n",
    "from dotenv import load_dotenv"
   ]
  },
  {
   "cell_type": "code",
   "execution_count": 13,
   "id": "9f2bbff8",
   "metadata": {},
   "outputs": [],
   "source": [
    "load_dotenv()\n",
    "CLIENT_ID = os.getenv('ENV_CLIENT_ID')\n",
    "CLIENT_SECRET = os.getenv('ENV_CLIENT_SECRET')"
   ]
  },
  {
   "cell_type": "markdown",
   "id": "c5f64125",
   "metadata": {},
   "source": [
    "## Get spotify token "
   ]
  },
  {
   "cell_type": "code",
   "execution_count": 14,
   "id": "611325b7",
   "metadata": {},
   "outputs": [],
   "source": [
    "AUTH_URL = 'https://accounts.spotify.com/authorize'\n",
    "TOKEN_URL = 'https://accounts.spotify.com/api/token'\n",
    "BASE_URL = 'https://api.spotify.com/v1/'\n",
    "# SPOTIFY API CLIENT ID AND SECRET"
   ]
  },
  {
   "cell_type": "code",
   "execution_count": 31,
   "id": "36642a9c",
   "metadata": {},
   "outputs": [
    {
     "data": {
      "text/plain": [
       "True"
      ]
     },
     "execution_count": 31,
     "metadata": {},
     "output_type": "execute_result"
    }
   ],
   "source": [
    "auth_headers = {\n",
    "    \"client_id\": CLIENT_ID,\n",
    "    \"response_type\": \"code\",\n",
    "    \"redirect_uri\": \"http://localhost:7777/callback\",\n",
    "    \"scope\": \"user-library-read\"\n",
    "}\n",
    "\n",
    "webbrowser.open(\"https://accounts.spotify.com/authorize?\" + urlencode(auth_headers))"
   ]
  },
  {
   "cell_type": "markdown",
   "id": "0a2c717f",
   "metadata": {},
   "source": [
    "---\n",
    "### From the URL, copy everything after code= and put that into code in the cell below\n",
    "\n",
    "---"
   ]
  },
  {
   "cell_type": "code",
   "execution_count": 32,
   "id": "2c6a6b54",
   "metadata": {},
   "outputs": [],
   "source": [
    "code = 'AQD_noEN-jYd7N3_HmPsXfhnKKzK9OrByB6DOpGdfTtsz048oD00JGZhAzuozGVmrjRSB1thccJhFLIB2tN4jv3NHxzAP9JoCTzuJFTOHm4dZgQlAHUloe-4CvVxloykkm-Eovce0u3Vb0Vy2rsyRErCQpJRRMAnQZMHoEI52N_jFqnoxzPxDeTtypttISKs_HRriWM'\n",
    "encoded_credentials = base64.b64encode(CLIENT_ID.encode() + b':' + CLIENT_SECRET.encode()).decode(\"utf-8\")\n",
    "\n",
    "token_headers = {\n",
    "    \"Authorization\": \"Basic \" + encoded_credentials,\n",
    "    \"Content-Type\": \"application/x-www-form-urlencoded\"\n",
    "}\n",
    "\n",
    "token_data = {\n",
    "    \"grant_type\": \"authorization_code\",\n",
    "    \"code\": code,\n",
    "    \"redirect_uri\": \"http://localhost:7777/callback\"\n",
    "}\n",
    "\n",
    "r = requests.post(\"https://accounts.spotify.com/api/token\", data=token_data, headers=token_headers)\n",
    "ACCESS_TOKEN = r.json()['access_token']"
   ]
  },
  {
   "cell_type": "code",
   "execution_count": 33,
   "id": "0009cdd0",
   "metadata": {},
   "outputs": [
    {
     "data": {
      "text/plain": [
       "'BQAfTbE3bTgj2xQ5zS9WxyzkvxN3M7jTpWO_4_gODpK6WeWKtxk5u23lDdoSvEpzL6TRMvWZqC9q4EuxKxLdOWXf1liLMQqd2leQdZAJ7FkNNbLFuL2xZxZNM5EA1tGMqyMCDd-4y0eGiTduiy7-h9-xNIGPBLE15olbFlc5QghzaTOSMdd7OE5y8C32gvU'"
      ]
     },
     "execution_count": 33,
     "metadata": {},
     "output_type": "execute_result"
    }
   ],
   "source": [
    "user_headers = {\n",
    "    \"Authorization\": \"Bearer \" + ACCESS_TOKEN,\n",
    "    \"Content-Type\": \"application/json\"\n",
    "}\n",
    "\n",
    "ACCESS_TOKEN"
   ]
  },
  {
   "cell_type": "markdown",
   "id": "eaf18019",
   "metadata": {},
   "source": [
    "## Load spotify ids for kaggle data"
   ]
  },
  {
   "cell_type": "code",
   "execution_count": 19,
   "id": "448bc88a",
   "metadata": {},
   "outputs": [],
   "source": [
    "spotify_data = pd.read_csv('../data/etl_integration/kaggle-spotify-2023.csv', encoding='latin-1')"
   ]
  },
  {
   "cell_type": "code",
   "execution_count": 20,
   "id": "d4928d3d",
   "metadata": {},
   "outputs": [
    {
     "name": "stdout",
     "output_type": "stream",
     "text": [
      "952\r"
     ]
    }
   ],
   "source": [
    "output = []\n",
    "failed = []\n",
    "count_failed = 0\n",
    "count = 0\n",
    "for _, row in spotify_data.iterrows():\n",
    "    print(count, end='\\r')\n",
    "    track_name = re.sub(r'[^a-zA-Z0-9_\\-+]+', '', row['track_name'].replace(' ', '+'))\n",
    "    artist_name = re.sub(r'[^a-zA-Z0-9_\\-+]+', '', row['artist(s)_name'].replace(' ', '+'))\n",
    "    #query = f'track%3A{track_name}%2520artist%3A{artist_name}'\n",
    "    query = f'track%253A{track_name}%20artist3A{artist_name}'\n",
    "    resp = requests.get(f'https://api.spotify.com/v1/search?q={query}&type=track&limit=5', headers=user_headers)\n",
    "    track_id = -1\n",
    "    if resp.status_code == 200:\n",
    "        for i, track in enumerate(resp.json()['tracks']['items']):\n",
    "            if track['name'] == re.sub(r'[^a-zA-Z0-9_\\-+]+', '', track_name.replace(' ', '+')):\n",
    "                track_id = i\n",
    "        if track_id == -1:\n",
    "            namelist = []\n",
    "            for track in resp.json()['tracks']['items']:\n",
    "                namelist.append(re.sub(r'[^a-zA-Z0-9_\\-+]+', '', track['name'].replace(' ', '+')))\n",
    "            sim_ratings = []\n",
    "            track_split = set(track_name.split('+'))\n",
    "            for i, trackname in enumerate(namelist):\n",
    "                sim_ratings.append(len(set(trackname.split('+')).symmetric_difference(track_split)))\n",
    "            #popularities = [track['popularity'] for track in resp.json()['tracks']['items']]\n",
    "            #track_id = popularities.index(max(popularities))\n",
    "            track_id = sim_ratings.index(min(sim_ratings))\n",
    "        output.append((resp, resp.json()['tracks']['items'][track_id], resp.json()))\n",
    "        count_failed = 0\n",
    "    else:\n",
    "        failed.append(resp)\n",
    "        count_failed += 1\n",
    "    if count_failed == 5:\n",
    "        break\n",
    "    count += 1"
   ]
  },
  {
   "cell_type": "code",
   "execution_count": 21,
   "id": "23da766c",
   "metadata": {},
   "outputs": [],
   "source": [
    "trackids = []\n",
    "for track in output:\n",
    "    trackids.append(track[1]['id'])"
   ]
  },
  {
   "cell_type": "markdown",
   "id": "c2218c53",
   "metadata": {},
   "source": [
    "## Check for correctness"
   ]
  },
  {
   "cell_type": "code",
   "execution_count": 22,
   "id": "d5630476",
   "metadata": {},
   "outputs": [],
   "source": [
    "track_jaccards = []\n",
    "artist_jaccards = []\n",
    "api_tracks = []\n",
    "api_artists = []\n",
    "track_ids = []\n",
    "def get_string_jaccard(s1, s2):\n",
    "    m1, m2 = MinHash(), MinHash()\n",
    "    for d in s1.split():\n",
    "        m1.update(d.encode('utf8'))\n",
    "    for d in s2.split():\n",
    "        m2.update(d.encode('utf8'))\n",
    "    return m1.jaccard(m2)\n",
    "for i, row in spotify_data.iterrows():\n",
    "    data_tname = re.sub('[^0-9a-zA-Z ]+', '', row['track_name'])\n",
    "    data_artists = re.sub('[^0-9a-zA-Z ]+', '', row['artist(s)_name'])\n",
    "    track_items = output[i][2]['tracks']['items']\n",
    "    scores = []\n",
    "    for api_track in track_items:\n",
    "        api_artists_joined = ', '.join([artist['name'] for artist in api_track['artists']])\n",
    "        api_tname = re.sub('[^0-9a-zA-Z ]+', '', api_track['name'])\n",
    "        api_tartists = re.sub('[^0-9a-zA-Z ]+', '', api_artists_joined)\n",
    "        track_jaccard = get_string_jaccard(data_tname.lower().strip(), api_tname.lower().strip())\n",
    "        artist_jaccard = get_string_jaccard(data_artists.lower().strip(), api_tartists.lower().strip())\n",
    "        scores.append((track_jaccard, artist_jaccard))\n",
    "    multiplied_scores = list(map(lambda x: x[0] * x[1], scores))\n",
    "    best_match_idx = multiplied_scores.index(max(multiplied_scores))\n",
    "    track_jaccards.append(scores[best_match_idx][0])\n",
    "    artist_jaccards.append(scores[best_match_idx][1])\n",
    "    api_tracks.append(track_items[best_match_idx]['name'])\n",
    "    api_artists.append(', '.join([artist['name'] for artist in track_items[best_match_idx]['artists']]))\n",
    "    track_ids.append(track_items[best_match_idx]['id'])\n",
    "spotify_data.insert(0, 'track_id', track_ids)\n",
    "spotify_data['api_track_name'] = api_tracks\n",
    "spotify_data['api_artist(s)'] = api_artists\n",
    "spotify_data['track_jaccards'] = track_jaccards\n",
    "spotify_data['artist_jaccards'] = artist_jaccards"
   ]
  },
  {
   "cell_type": "code",
   "execution_count": 23,
   "id": "053d894d",
   "metadata": {},
   "outputs": [],
   "source": [
    "spotify_data['api_confidence'] = spotify_data['track_jaccards'].multiply(spotify_data['artist_jaccards'])"
   ]
  },
  {
   "cell_type": "code",
   "execution_count": 24,
   "id": "e9aa144c",
   "metadata": {},
   "outputs": [],
   "source": [
    "filtered_spotify_data = spotify_data[spotify_data['api_confidence'] >= 0.25]"
   ]
  },
  {
   "cell_type": "code",
   "execution_count": 29,
   "id": "797fb934",
   "metadata": {},
   "outputs": [],
   "source": [
    "filtered_spotify_data.to_csv('../data/etl_integration/kaggle_spotify_data_with_id.csv', index=False)"
   ]
  },
  {
   "cell_type": "code",
   "execution_count": 27,
   "id": "c008aa57",
   "metadata": {},
   "outputs": [
    {
     "data": {
      "text/html": [
       "<div>\n",
       "<style scoped>\n",
       "    .dataframe tbody tr th:only-of-type {\n",
       "        vertical-align: middle;\n",
       "    }\n",
       "\n",
       "    .dataframe tbody tr th {\n",
       "        vertical-align: top;\n",
       "    }\n",
       "\n",
       "    .dataframe thead th {\n",
       "        text-align: right;\n",
       "    }\n",
       "</style>\n",
       "<table border=\"1\" class=\"dataframe\">\n",
       "  <thead>\n",
       "    <tr style=\"text-align: right;\">\n",
       "      <th></th>\n",
       "      <th>track_name</th>\n",
       "      <th>artist(s)_name</th>\n",
       "      <th>api_track_name</th>\n",
       "      <th>api_artist(s)</th>\n",
       "    </tr>\n",
       "  </thead>\n",
       "  <tbody>\n",
       "    <tr>\n",
       "      <th>0</th>\n",
       "      <td>Seven (feat. Latto) (Explicit Ver.)</td>\n",
       "      <td>Latto, Jung Kook</td>\n",
       "      <td>Seven (feat. Latto) (Explicit Ver.)</td>\n",
       "      <td>Jung Kook, Latto</td>\n",
       "    </tr>\n",
       "    <tr>\n",
       "      <th>1</th>\n",
       "      <td>LALA</td>\n",
       "      <td>Myke Towers</td>\n",
       "      <td>LALA</td>\n",
       "      <td>Myke Towers</td>\n",
       "    </tr>\n",
       "    <tr>\n",
       "      <th>2</th>\n",
       "      <td>vampire</td>\n",
       "      <td>Olivia Rodrigo</td>\n",
       "      <td>vampire</td>\n",
       "      <td>Olivia Rodrigo</td>\n",
       "    </tr>\n",
       "    <tr>\n",
       "      <th>3</th>\n",
       "      <td>Cruel Summer</td>\n",
       "      <td>Taylor Swift</td>\n",
       "      <td>Cruel Summer</td>\n",
       "      <td>Taylor Swift</td>\n",
       "    </tr>\n",
       "    <tr>\n",
       "      <th>5</th>\n",
       "      <td>Sprinter</td>\n",
       "      <td>Dave, Central Cee</td>\n",
       "      <td>Sprinter</td>\n",
       "      <td>Dave, Central Cee</td>\n",
       "    </tr>\n",
       "    <tr>\n",
       "      <th>...</th>\n",
       "      <td>...</td>\n",
       "      <td>...</td>\n",
       "      <td>...</td>\n",
       "      <td>...</td>\n",
       "    </tr>\n",
       "    <tr>\n",
       "      <th>945</th>\n",
       "      <td>BackOutsideBoyz</td>\n",
       "      <td>Drake</td>\n",
       "      <td>BackOutsideBoyz</td>\n",
       "      <td>Drake</td>\n",
       "    </tr>\n",
       "    <tr>\n",
       "      <th>946</th>\n",
       "      <td>Broke Boys</td>\n",
       "      <td>Drake, 21 Savage</td>\n",
       "      <td>Broke Boys</td>\n",
       "      <td>Drake, 21 Savage</td>\n",
       "    </tr>\n",
       "    <tr>\n",
       "      <th>948</th>\n",
       "      <td>My Mind &amp; Me</td>\n",
       "      <td>Selena Gomez</td>\n",
       "      <td>My Mind &amp; Me</td>\n",
       "      <td>Selena Gomez</td>\n",
       "    </tr>\n",
       "    <tr>\n",
       "      <th>950</th>\n",
       "      <td>A Veces (feat. Feid)</td>\n",
       "      <td>Feid, Paulo Londra</td>\n",
       "      <td>A Veces (feat. Feid)</td>\n",
       "      <td>Paulo Londra, Feid</td>\n",
       "    </tr>\n",
       "    <tr>\n",
       "      <th>951</th>\n",
       "      <td>En La De Ella</td>\n",
       "      <td>Feid, Sech, Jhayco</td>\n",
       "      <td>En La De Ella</td>\n",
       "      <td>Jhayco, Feid, Sech</td>\n",
       "    </tr>\n",
       "  </tbody>\n",
       "</table>\n",
       "<p>661 rows × 4 columns</p>\n",
       "</div>"
      ],
      "text/plain": [
       "                              track_name      artist(s)_name  \\\n",
       "0    Seven (feat. Latto) (Explicit Ver.)    Latto, Jung Kook   \n",
       "1                                   LALA         Myke Towers   \n",
       "2                                vampire      Olivia Rodrigo   \n",
       "3                           Cruel Summer        Taylor Swift   \n",
       "5                               Sprinter   Dave, Central Cee   \n",
       "..                                   ...                 ...   \n",
       "945                      BackOutsideBoyz               Drake   \n",
       "946                           Broke Boys    Drake, 21 Savage   \n",
       "948                         My Mind & Me        Selena Gomez   \n",
       "950                 A Veces (feat. Feid)  Feid, Paulo Londra   \n",
       "951                        En La De Ella  Feid, Sech, Jhayco   \n",
       "\n",
       "                          api_track_name       api_artist(s)  \n",
       "0    Seven (feat. Latto) (Explicit Ver.)    Jung Kook, Latto  \n",
       "1                                   LALA         Myke Towers  \n",
       "2                                vampire      Olivia Rodrigo  \n",
       "3                           Cruel Summer        Taylor Swift  \n",
       "5                               Sprinter   Dave, Central Cee  \n",
       "..                                   ...                 ...  \n",
       "945                      BackOutsideBoyz               Drake  \n",
       "946                           Broke Boys    Drake, 21 Savage  \n",
       "948                         My Mind & Me        Selena Gomez  \n",
       "950                 A Veces (feat. Feid)  Paulo Londra, Feid  \n",
       "951                        En La De Ella  Jhayco, Feid, Sech  \n",
       "\n",
       "[661 rows x 4 columns]"
      ]
     },
     "execution_count": 27,
     "metadata": {},
     "output_type": "execute_result"
    }
   ],
   "source": [
    "spotify_data[spotify_data['api_confidence'] == 1][['track_name', 'artist(s)_name', 'api_track_name', 'api_artist(s)']]"
   ]
  },
  {
   "cell_type": "code",
   "execution_count": 28,
   "id": "0d589c77",
   "metadata": {},
   "outputs": [
    {
     "data": {
      "text/html": [
       "<div>\n",
       "<style scoped>\n",
       "    .dataframe tbody tr th:only-of-type {\n",
       "        vertical-align: middle;\n",
       "    }\n",
       "\n",
       "    .dataframe tbody tr th {\n",
       "        vertical-align: top;\n",
       "    }\n",
       "\n",
       "    .dataframe thead th {\n",
       "        text-align: right;\n",
       "    }\n",
       "</style>\n",
       "<table border=\"1\" class=\"dataframe\">\n",
       "  <thead>\n",
       "    <tr style=\"text-align: right;\">\n",
       "      <th></th>\n",
       "      <th>track_name</th>\n",
       "      <th>artist(s)_name</th>\n",
       "      <th>api_track_name</th>\n",
       "      <th>api_artist(s)</th>\n",
       "    </tr>\n",
       "  </thead>\n",
       "  <tbody>\n",
       "    <tr>\n",
       "      <th>4</th>\n",
       "      <td>WHERE SHE GOES</td>\n",
       "      <td>Bad Bunny</td>\n",
       "      <td>Where She Goes (Remix)</td>\n",
       "      <td>Motoroladovi</td>\n",
       "    </tr>\n",
       "    <tr>\n",
       "      <th>11</th>\n",
       "      <td>Super Shy</td>\n",
       "      <td>NewJeans</td>\n",
       "      <td>Super Shy - NewJeans (Marimba Ringtone)</td>\n",
       "      <td>Anime Ringtones, Anytunz</td>\n",
       "    </tr>\n",
       "    <tr>\n",
       "      <th>14</th>\n",
       "      <td>As It Was</td>\n",
       "      <td>Harry Styles</td>\n",
       "      <td>As It Was (Originally Performed by Harry Style...</td>\n",
       "      <td>Vox Freaks</td>\n",
       "    </tr>\n",
       "    <tr>\n",
       "      <th>17</th>\n",
       "      <td>What Was I Made For? [From The Motion Picture ...</td>\n",
       "      <td>Billie Eilish</td>\n",
       "      <td>What Was I Made For? (Epilogue) - Instrumental...</td>\n",
       "      <td>Mark Ronson, Andrew Wyatt</td>\n",
       "    </tr>\n",
       "    <tr>\n",
       "      <th>19</th>\n",
       "      <td>Like Crazy</td>\n",
       "      <td>Jimin</td>\n",
       "      <td>Arrivals n2</td>\n",
       "      <td>Dustin O'Halloran</td>\n",
       "    </tr>\n",
       "    <tr>\n",
       "      <th>...</th>\n",
       "      <td>...</td>\n",
       "      <td>...</td>\n",
       "      <td>...</td>\n",
       "      <td>...</td>\n",
       "    </tr>\n",
       "    <tr>\n",
       "      <th>941</th>\n",
       "      <td>Would've, Could've, Should've</td>\n",
       "      <td>Taylor Swift</td>\n",
       "      <td>Would've, Could've, Should've - Piano Version</td>\n",
       "      <td>Marlene T</td>\n",
       "    </tr>\n",
       "    <tr>\n",
       "      <th>943</th>\n",
       "      <td>Privileged Rappers</td>\n",
       "      <td>Drake, 21 Savage</td>\n",
       "      <td>Privileged Rappers (Originally Performed by Dr...</td>\n",
       "      <td>3 Dope Brothas</td>\n",
       "    </tr>\n",
       "    <tr>\n",
       "      <th>947</th>\n",
       "      <td>The Great War</td>\n",
       "      <td>Taylor Swift</td>\n",
       "      <td>The Great War (Originally Performed by Taylor ...</td>\n",
       "      <td>Sing2Piano</td>\n",
       "    </tr>\n",
       "    <tr>\n",
       "      <th>949</th>\n",
       "      <td>Bigger Than The Whole Sky</td>\n",
       "      <td>Taylor Swift</td>\n",
       "      <td>Bigger Than The Whole Sky - Piano Version</td>\n",
       "      <td>Marlene T</td>\n",
       "    </tr>\n",
       "    <tr>\n",
       "      <th>952</th>\n",
       "      <td>Alone</td>\n",
       "      <td>Burna Boy</td>\n",
       "      <td>Alone (feat. BJRNCK)</td>\n",
       "      <td>HappyBirthdayCalvin, BJRNCK</td>\n",
       "    </tr>\n",
       "  </tbody>\n",
       "</table>\n",
       "<p>156 rows × 4 columns</p>\n",
       "</div>"
      ],
      "text/plain": [
       "                                            track_name    artist(s)_name  \\\n",
       "4                                       WHERE SHE GOES         Bad Bunny   \n",
       "11                                           Super Shy          NewJeans   \n",
       "14                                           As It Was      Harry Styles   \n",
       "17   What Was I Made For? [From The Motion Picture ...     Billie Eilish   \n",
       "19                                          Like Crazy             Jimin   \n",
       "..                                                 ...               ...   \n",
       "941                      Would've, Could've, Should've      Taylor Swift   \n",
       "943                                 Privileged Rappers  Drake, 21 Savage   \n",
       "947                                      The Great War      Taylor Swift   \n",
       "949                          Bigger Than The Whole Sky      Taylor Swift   \n",
       "952                                              Alone         Burna Boy   \n",
       "\n",
       "                                        api_track_name  \\\n",
       "4                               Where She Goes (Remix)   \n",
       "11             Super Shy - NewJeans (Marimba Ringtone)   \n",
       "14   As It Was (Originally Performed by Harry Style...   \n",
       "17   What Was I Made For? (Epilogue) - Instrumental...   \n",
       "19                                         Arrivals n2   \n",
       "..                                                 ...   \n",
       "941      Would've, Could've, Should've - Piano Version   \n",
       "943  Privileged Rappers (Originally Performed by Dr...   \n",
       "947  The Great War (Originally Performed by Taylor ...   \n",
       "949          Bigger Than The Whole Sky - Piano Version   \n",
       "952                               Alone (feat. BJRNCK)   \n",
       "\n",
       "                   api_artist(s)  \n",
       "4                   Motoroladovi  \n",
       "11      Anime Ringtones, Anytunz  \n",
       "14                    Vox Freaks  \n",
       "17     Mark Ronson, Andrew Wyatt  \n",
       "19             Dustin O'Halloran  \n",
       "..                           ...  \n",
       "941                    Marlene T  \n",
       "943               3 Dope Brothas  \n",
       "947                   Sing2Piano  \n",
       "949                    Marlene T  \n",
       "952  HappyBirthdayCalvin, BJRNCK  \n",
       "\n",
       "[156 rows x 4 columns]"
      ]
     },
     "execution_count": 28,
     "metadata": {},
     "output_type": "execute_result"
    }
   ],
   "source": [
    "spotify_data[spotify_data['api_confidence'] == 0][['track_name', 'artist(s)_name', 'api_track_name', 'api_artist(s)']]"
   ]
  },
  {
   "cell_type": "markdown",
   "id": "6876174d",
   "metadata": {},
   "source": [
    "---\n",
    "\n",
    "As we can see above, entries where the confidence is 1 have the correct track name and artist(s), and tracks with confidence 0 are all incorrect\n",
    "\n",
    "---"
   ]
  },
  {
   "cell_type": "markdown",
   "id": "b3904dc5",
   "metadata": {},
   "source": [
    "## Get track info and audio features"
   ]
  },
  {
   "cell_type": "code",
   "execution_count": 34,
   "id": "e5c26686",
   "metadata": {},
   "outputs": [
    {
     "name": "stdout",
     "output_type": "stream",
     "text": [
      "0.8038\n"
     ]
    },
    {
     "ename": "ValueError",
     "evalue": "All arrays must be of the same length",
     "output_type": "error",
     "traceback": [
      "\u001b[0;31m---------------------------------------------------------------------------\u001b[0m",
      "\u001b[0;31mValueError\u001b[0m                                Traceback (most recent call last)",
      "Cell \u001b[0;32mIn[34], line 55\u001b[0m\n\u001b[1;32m     53\u001b[0m         failed\u001b[38;5;241m.\u001b[39mappend((\u001b[38;5;124m'\u001b[39m\u001b[38;5;124maudio-analysis\u001b[39m\u001b[38;5;124m'\u001b[39m, track, track_analysis_resp))\n\u001b[1;32m     54\u001b[0m \u001b[38;5;28mprint\u001b[39m()\n\u001b[0;32m---> 55\u001b[0m track_data \u001b[38;5;241m=\u001b[39m \u001b[43mpd\u001b[49m\u001b[38;5;241;43m.\u001b[39;49m\u001b[43mDataFrame\u001b[49m\u001b[43m(\u001b[49m\u001b[43mtrack_data\u001b[49m\u001b[43m)\u001b[49m\n",
      "File \u001b[0;32m~/anaconda3/lib/python3.10/site-packages/pandas/core/frame.py:709\u001b[0m, in \u001b[0;36mDataFrame.__init__\u001b[0;34m(self, data, index, columns, dtype, copy)\u001b[0m\n\u001b[1;32m    703\u001b[0m     mgr \u001b[38;5;241m=\u001b[39m \u001b[38;5;28mself\u001b[39m\u001b[38;5;241m.\u001b[39m_init_mgr(\n\u001b[1;32m    704\u001b[0m         data, axes\u001b[38;5;241m=\u001b[39m{\u001b[38;5;124m\"\u001b[39m\u001b[38;5;124mindex\u001b[39m\u001b[38;5;124m\"\u001b[39m: index, \u001b[38;5;124m\"\u001b[39m\u001b[38;5;124mcolumns\u001b[39m\u001b[38;5;124m\"\u001b[39m: columns}, dtype\u001b[38;5;241m=\u001b[39mdtype, copy\u001b[38;5;241m=\u001b[39mcopy\n\u001b[1;32m    705\u001b[0m     )\n\u001b[1;32m    707\u001b[0m \u001b[38;5;28;01melif\u001b[39;00m \u001b[38;5;28misinstance\u001b[39m(data, \u001b[38;5;28mdict\u001b[39m):\n\u001b[1;32m    708\u001b[0m     \u001b[38;5;66;03m# GH#38939 de facto copy defaults to False only in non-dict cases\u001b[39;00m\n\u001b[0;32m--> 709\u001b[0m     mgr \u001b[38;5;241m=\u001b[39m \u001b[43mdict_to_mgr\u001b[49m\u001b[43m(\u001b[49m\u001b[43mdata\u001b[49m\u001b[43m,\u001b[49m\u001b[43m \u001b[49m\u001b[43mindex\u001b[49m\u001b[43m,\u001b[49m\u001b[43m \u001b[49m\u001b[43mcolumns\u001b[49m\u001b[43m,\u001b[49m\u001b[43m \u001b[49m\u001b[43mdtype\u001b[49m\u001b[38;5;241;43m=\u001b[39;49m\u001b[43mdtype\u001b[49m\u001b[43m,\u001b[49m\u001b[43m \u001b[49m\u001b[43mcopy\u001b[49m\u001b[38;5;241;43m=\u001b[39;49m\u001b[43mcopy\u001b[49m\u001b[43m,\u001b[49m\u001b[43m \u001b[49m\u001b[43mtyp\u001b[49m\u001b[38;5;241;43m=\u001b[39;49m\u001b[43mmanager\u001b[49m\u001b[43m)\u001b[49m\n\u001b[1;32m    710\u001b[0m \u001b[38;5;28;01melif\u001b[39;00m \u001b[38;5;28misinstance\u001b[39m(data, ma\u001b[38;5;241m.\u001b[39mMaskedArray):\n\u001b[1;32m    711\u001b[0m     \u001b[38;5;28;01mfrom\u001b[39;00m \u001b[38;5;21;01mnumpy\u001b[39;00m\u001b[38;5;21;01m.\u001b[39;00m\u001b[38;5;21;01mma\u001b[39;00m \u001b[38;5;28;01mimport\u001b[39;00m mrecords\n",
      "File \u001b[0;32m~/anaconda3/lib/python3.10/site-packages/pandas/core/internals/construction.py:481\u001b[0m, in \u001b[0;36mdict_to_mgr\u001b[0;34m(data, index, columns, dtype, typ, copy)\u001b[0m\n\u001b[1;32m    477\u001b[0m     \u001b[38;5;28;01melse\u001b[39;00m:\n\u001b[1;32m    478\u001b[0m         \u001b[38;5;66;03m# dtype check to exclude e.g. range objects, scalars\u001b[39;00m\n\u001b[1;32m    479\u001b[0m         arrays \u001b[38;5;241m=\u001b[39m [x\u001b[38;5;241m.\u001b[39mcopy() \u001b[38;5;28;01mif\u001b[39;00m \u001b[38;5;28mhasattr\u001b[39m(x, \u001b[38;5;124m\"\u001b[39m\u001b[38;5;124mdtype\u001b[39m\u001b[38;5;124m\"\u001b[39m) \u001b[38;5;28;01melse\u001b[39;00m x \u001b[38;5;28;01mfor\u001b[39;00m x \u001b[38;5;129;01min\u001b[39;00m arrays]\n\u001b[0;32m--> 481\u001b[0m \u001b[38;5;28;01mreturn\u001b[39;00m \u001b[43marrays_to_mgr\u001b[49m\u001b[43m(\u001b[49m\u001b[43marrays\u001b[49m\u001b[43m,\u001b[49m\u001b[43m \u001b[49m\u001b[43mcolumns\u001b[49m\u001b[43m,\u001b[49m\u001b[43m \u001b[49m\u001b[43mindex\u001b[49m\u001b[43m,\u001b[49m\u001b[43m \u001b[49m\u001b[43mdtype\u001b[49m\u001b[38;5;241;43m=\u001b[39;49m\u001b[43mdtype\u001b[49m\u001b[43m,\u001b[49m\u001b[43m \u001b[49m\u001b[43mtyp\u001b[49m\u001b[38;5;241;43m=\u001b[39;49m\u001b[43mtyp\u001b[49m\u001b[43m,\u001b[49m\u001b[43m \u001b[49m\u001b[43mconsolidate\u001b[49m\u001b[38;5;241;43m=\u001b[39;49m\u001b[43mcopy\u001b[49m\u001b[43m)\u001b[49m\n",
      "File \u001b[0;32m~/anaconda3/lib/python3.10/site-packages/pandas/core/internals/construction.py:115\u001b[0m, in \u001b[0;36marrays_to_mgr\u001b[0;34m(arrays, columns, index, dtype, verify_integrity, typ, consolidate)\u001b[0m\n\u001b[1;32m    112\u001b[0m \u001b[38;5;28;01mif\u001b[39;00m verify_integrity:\n\u001b[1;32m    113\u001b[0m     \u001b[38;5;66;03m# figure out the index, if necessary\u001b[39;00m\n\u001b[1;32m    114\u001b[0m     \u001b[38;5;28;01mif\u001b[39;00m index \u001b[38;5;129;01mis\u001b[39;00m \u001b[38;5;28;01mNone\u001b[39;00m:\n\u001b[0;32m--> 115\u001b[0m         index \u001b[38;5;241m=\u001b[39m \u001b[43m_extract_index\u001b[49m\u001b[43m(\u001b[49m\u001b[43marrays\u001b[49m\u001b[43m)\u001b[49m\n\u001b[1;32m    116\u001b[0m     \u001b[38;5;28;01melse\u001b[39;00m:\n\u001b[1;32m    117\u001b[0m         index \u001b[38;5;241m=\u001b[39m ensure_index(index)\n",
      "File \u001b[0;32m~/anaconda3/lib/python3.10/site-packages/pandas/core/internals/construction.py:655\u001b[0m, in \u001b[0;36m_extract_index\u001b[0;34m(data)\u001b[0m\n\u001b[1;32m    653\u001b[0m lengths \u001b[38;5;241m=\u001b[39m \u001b[38;5;28mlist\u001b[39m(\u001b[38;5;28mset\u001b[39m(raw_lengths))\n\u001b[1;32m    654\u001b[0m \u001b[38;5;28;01mif\u001b[39;00m \u001b[38;5;28mlen\u001b[39m(lengths) \u001b[38;5;241m>\u001b[39m \u001b[38;5;241m1\u001b[39m:\n\u001b[0;32m--> 655\u001b[0m     \u001b[38;5;28;01mraise\u001b[39;00m \u001b[38;5;167;01mValueError\u001b[39;00m(\u001b[38;5;124m\"\u001b[39m\u001b[38;5;124mAll arrays must be of the same length\u001b[39m\u001b[38;5;124m\"\u001b[39m)\n\u001b[1;32m    657\u001b[0m \u001b[38;5;28;01mif\u001b[39;00m have_dicts:\n\u001b[1;32m    658\u001b[0m     \u001b[38;5;28;01mraise\u001b[39;00m \u001b[38;5;167;01mValueError\u001b[39;00m(\n\u001b[1;32m    659\u001b[0m         \u001b[38;5;124m\"\u001b[39m\u001b[38;5;124mMixing dicts with non-Series may lead to ambiguous ordering.\u001b[39m\u001b[38;5;124m\"\u001b[39m\n\u001b[1;32m    660\u001b[0m     )\n",
      "\u001b[0;31mValueError\u001b[0m: All arrays must be of the same length"
     ]
    }
   ],
   "source": [
    "audio_features = ['acousticness', 'danceability', 'duration_ms', 'energy', 'instrumentalness', 'key', 'liveness',\n",
    "                  'loudness', 'mode', 'speechiness', 'tempo', 'time_signature', 'valence']\n",
    "track_data = {col: [] for col in ['track_id', 'track_name', 'artist(s)', 'related_artists'] + audio_features}\n",
    "failed = []\n",
    "failed_artists = []\n",
    "track_audio_features = []\n",
    "track_audio_analysis = []\n",
    "for i, track_id in enumerate(filtered_spotify_data['track_id'].tolist()):\n",
    "    print(round(i / len(spotify_data), 4), end='\\r')\n",
    "    track_resp = requests.get(f'https://api.spotify.com/v1/tracks/{track_id}', headers=user_headers)\n",
    "    track_json = None\n",
    "    if track_resp.status_code == 200:\n",
    "        track_json = track_resp.json()\n",
    "        artists = [(artist['name'], artist['id']) for artist in track_json['artists']]\n",
    "        related_artists = []\n",
    "        for artist in artists:\n",
    "            artist_id = artist[1]\n",
    "            related_artists_resp = requests.get(f'https://api.spotify.com/v1/artists/{artist_id}/related-artists',\n",
    "                                                headers=user_headers)\n",
    "            related_artists_json = None\n",
    "            if related_artists_resp.status_code == 200:\n",
    "                related_artists_json = related_artists_resp.json()\n",
    "                related_artists.append([(related_artist['name'], related_artist['id']) for related_artist in related_artists_json['artists']])\n",
    "            else:\n",
    "                failed_artists.append((artist, related_artists_resp))\n",
    "                related_artists.append(None)\n",
    "        track_data['track_id'].append(track_id)\n",
    "        track_data['track_name'].append(track_json['name'])\n",
    "        track_data['artist(s)'].append(artists)\n",
    "        track_data['related_artists'].append(related_artists)\n",
    "    else:\n",
    "        failed.append(('track', track_id, track_resp))\n",
    "    # TRACK AUDIO FEATURES\n",
    "    track_features_resp = requests.get(f'https://api.spotify.com/v1/audio-features/{track_id}', headers=user_headers)\n",
    "    track_features_json = None\n",
    "    if track_features_resp.status_code == 200:\n",
    "        track_features_json = track_features_resp.json()\n",
    "        for feature in audio_features:\n",
    "            if feature in track_features_json:\n",
    "                track_data[feature].append(track_features_json[feature])\n",
    "            else:\n",
    "                track_data[feature].append(np.nan)\n",
    "        track_audio_features.append(track_features_json)\n",
    "    else:\n",
    "        failed.append(('audio-features', track_id, track_features_resp))\n",
    "    # TRACK AUDIO ANALYSIS\n",
    "    track_analysis_resp = requests.get(f'https://api.spotify.com/v1/audio-analysis/{track_id}', headers=user_headers)\n",
    "    track_analysis_json = None\n",
    "    if track_analysis_resp.status_code == 200:\n",
    "        track_analysis_json = track_analysis_resp.json()\n",
    "        track_audio_analysis.append(track_analysis_json)\n",
    "    else:\n",
    "        failed.append(('audio-analysis', track, track_analysis_resp))\n",
    "print()\n",
    "track_data = pd.DataFrame(track_data)"
   ]
  },
  {
   "cell_type": "code",
   "execution_count": null,
   "id": "857effc2",
   "metadata": {},
   "outputs": [],
   "source": [
    "with open('../data/etl_integration/kaggle_track_audio_features.json', 'w') as f:\n",
    "    json.dump(track_audio_features, f)\n",
    "with open('../data/etl_integration/kaggle_track_audio_analysis.json', 'w') as f:\n",
    "    json.dump(track_audio_analysis, f)\n",
    "track_data.to_csv('../data/etl_integration/kaggle_spotify_track_data.csv', index=False)"
   ]
  },
  {
   "cell_type": "code",
   "execution_count": null,
   "id": "216b4b50",
   "metadata": {},
   "outputs": [],
   "source": []
  }
 ],
 "metadata": {
  "kernelspec": {
   "display_name": "Python 3 (ipykernel)",
   "language": "python",
   "name": "python3"
  },
  "language_info": {
   "codemirror_mode": {
    "name": "ipython",
    "version": 3
   },
   "file_extension": ".py",
   "mimetype": "text/x-python",
   "name": "python",
   "nbconvert_exporter": "python",
   "pygments_lexer": "ipython3",
   "version": "3.10.9"
  }
 },
 "nbformat": 4,
 "nbformat_minor": 5
}
